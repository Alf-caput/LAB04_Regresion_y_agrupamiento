{
  "cells": [
    {
      "cell_type": "markdown",
      "metadata": {
        "colab_type": "text",
        "id": "view-in-github"
      },
      "source": [
        "<a href=\"https://colab.research.google.com/github/Alf-caput/LAB04_Regresion_y_agrupamiento/blob/Adev/LAB04%20Regresion_y_agrupamientov2_colab.ipynb\" target=\"_parent\"><img src=\"https://colab.research.google.com/assets/colab-badge.svg\" alt=\"Open In Colab\"/></a>"
      ]
    },
    {
      "cell_type": "markdown",
      "metadata": {
        "id": "k9AuBuTjimqc"
      },
      "source": [
        "# LAB04: Regresion y agrupamientov2\n",
        "##### Grupo: B05"
      ]
    },
    {
      "cell_type": "markdown",
      "metadata": {
        "id": "quWQ2wjkFtic"
      },
      "source": [
        "Si estamos utilizando google colab, en vez de clonar el repositorio, con wget obtenemos el archivo que contiene el dataset"
      ]
    },
    {
      "cell_type": "code",
      "execution_count": 1,
      "metadata": {
        "id": "1MSJXAjWE5TK"
      },
      "outputs": [],
      "source": [
        "import os\n",
        "\n",
        "filename = 'wine_alcohol.csv'\n",
        "url = 'https://github.com/Alf-caput/LAB04_Regresion_y_agrupamiento/raw/main/wine_alcohol.csv'\n",
        "\n",
        "if not os.path.exists(filename):\n",
        "    os.system('wget' + ' ' + url)"
      ]
    },
    {
      "cell_type": "markdown",
      "metadata": {
        "id": "9yAP50lMcX2y"
      },
      "source": [
        "Junto con las librerías requeridas"
      ]
    },
    {
      "cell_type": "code",
      "execution_count": 2,
      "metadata": {
        "colab": {
          "base_uri": "https://localhost:8080/"
        },
        "id": "Tw3q9ts4cXQO",
        "outputId": "f04eced8-15aa-4778-a844-0e24e8fbf733"
      },
      "outputs": [
        {
          "data": {
            "text/plain": [
              "0"
            ]
          },
          "execution_count": 2,
          "metadata": {},
          "output_type": "execute_result"
        }
      ],
      "source": [
        "import os\n",
        "\n",
        "requirements = 'requirements.txt'\n",
        "url = 'https://github.com/Alf-caput/LAB04_Regresion_y_agrupamiento/raw/main/requirements.txt'\n",
        "\n",
        "if not os.path.exists(requirements):\n",
        "    os.system('wget' + ' ' + url)\n",
        "\n",
        "os.system('pip install -r requirements.txt')"
      ]
    },
    {
      "cell_type": "code",
      "execution_count": 3,
      "metadata": {
        "colab": {
          "base_uri": "https://localhost:8080/",
          "height": 241
        },
        "id": "rHpuBiR3HHzB",
        "outputId": "731f264e-4afe-44ad-e88b-76a9c1cfa54b"
      },
      "outputs": [
        {
          "data": {
            "text/html": [
              "<div>\n",
              "<style scoped>\n",
              "    .dataframe tbody tr th:only-of-type {\n",
              "        vertical-align: middle;\n",
              "    }\n",
              "\n",
              "    .dataframe tbody tr th {\n",
              "        vertical-align: top;\n",
              "    }\n",
              "\n",
              "    .dataframe thead th {\n",
              "        text-align: right;\n",
              "    }\n",
              "</style>\n",
              "<table border=\"1\" class=\"dataframe\">\n",
              "  <thead>\n",
              "    <tr style=\"text-align: right;\">\n",
              "      <th></th>\n",
              "      <th>id</th>\n",
              "      <th>fixed acidity</th>\n",
              "      <th>volatile acidity</th>\n",
              "      <th>citric acid</th>\n",
              "      <th>residual sugar</th>\n",
              "      <th>chlorides</th>\n",
              "      <th>free sulfur dioxide</th>\n",
              "      <th>total sulfur dioxide</th>\n",
              "      <th>density</th>\n",
              "      <th>pH</th>\n",
              "      <th>sulphates</th>\n",
              "      <th>quality</th>\n",
              "      <th>wine type</th>\n",
              "      <th>alcohol</th>\n",
              "    </tr>\n",
              "  </thead>\n",
              "  <tbody>\n",
              "    <tr>\n",
              "      <th>0</th>\n",
              "      <td>0</td>\n",
              "      <td>7.4</td>\n",
              "      <td>0.70</td>\n",
              "      <td>0.00</td>\n",
              "      <td>1.9</td>\n",
              "      <td>0.076</td>\n",
              "      <td>11.0</td>\n",
              "      <td>34.0</td>\n",
              "      <td>0.9978</td>\n",
              "      <td>3.51</td>\n",
              "      <td>0.56</td>\n",
              "      <td>5</td>\n",
              "      <td>1</td>\n",
              "      <td>9.4</td>\n",
              "    </tr>\n",
              "    <tr>\n",
              "      <th>1</th>\n",
              "      <td>1</td>\n",
              "      <td>7.8</td>\n",
              "      <td>0.88</td>\n",
              "      <td>0.00</td>\n",
              "      <td>2.6</td>\n",
              "      <td>0.098</td>\n",
              "      <td>25.0</td>\n",
              "      <td>67.0</td>\n",
              "      <td>0.9968</td>\n",
              "      <td>3.20</td>\n",
              "      <td>0.68</td>\n",
              "      <td>5</td>\n",
              "      <td>1</td>\n",
              "      <td>9.8</td>\n",
              "    </tr>\n",
              "    <tr>\n",
              "      <th>2</th>\n",
              "      <td>2</td>\n",
              "      <td>7.8</td>\n",
              "      <td>0.76</td>\n",
              "      <td>0.04</td>\n",
              "      <td>2.3</td>\n",
              "      <td>0.092</td>\n",
              "      <td>15.0</td>\n",
              "      <td>54.0</td>\n",
              "      <td>0.9970</td>\n",
              "      <td>3.26</td>\n",
              "      <td>0.65</td>\n",
              "      <td>5</td>\n",
              "      <td>1</td>\n",
              "      <td>9.8</td>\n",
              "    </tr>\n",
              "    <tr>\n",
              "      <th>3</th>\n",
              "      <td>3</td>\n",
              "      <td>11.2</td>\n",
              "      <td>0.28</td>\n",
              "      <td>0.56</td>\n",
              "      <td>1.9</td>\n",
              "      <td>0.075</td>\n",
              "      <td>17.0</td>\n",
              "      <td>60.0</td>\n",
              "      <td>0.9980</td>\n",
              "      <td>3.16</td>\n",
              "      <td>0.58</td>\n",
              "      <td>6</td>\n",
              "      <td>1</td>\n",
              "      <td>9.8</td>\n",
              "    </tr>\n",
              "    <tr>\n",
              "      <th>4</th>\n",
              "      <td>4</td>\n",
              "      <td>7.4</td>\n",
              "      <td>0.70</td>\n",
              "      <td>0.00</td>\n",
              "      <td>1.9</td>\n",
              "      <td>0.076</td>\n",
              "      <td>11.0</td>\n",
              "      <td>34.0</td>\n",
              "      <td>0.9978</td>\n",
              "      <td>3.51</td>\n",
              "      <td>0.56</td>\n",
              "      <td>5</td>\n",
              "      <td>1</td>\n",
              "      <td>9.4</td>\n",
              "    </tr>\n",
              "  </tbody>\n",
              "</table>\n",
              "</div>"
            ],
            "text/plain": [
              "   id  fixed acidity  volatile acidity  citric acid  residual sugar  \\\n",
              "0   0            7.4              0.70         0.00             1.9   \n",
              "1   1            7.8              0.88         0.00             2.6   \n",
              "2   2            7.8              0.76         0.04             2.3   \n",
              "3   3           11.2              0.28         0.56             1.9   \n",
              "4   4            7.4              0.70         0.00             1.9   \n",
              "\n",
              "   chlorides  free sulfur dioxide  total sulfur dioxide  density    pH  \\\n",
              "0      0.076                 11.0                  34.0   0.9978  3.51   \n",
              "1      0.098                 25.0                  67.0   0.9968  3.20   \n",
              "2      0.092                 15.0                  54.0   0.9970  3.26   \n",
              "3      0.075                 17.0                  60.0   0.9980  3.16   \n",
              "4      0.076                 11.0                  34.0   0.9978  3.51   \n",
              "\n",
              "   sulphates  quality  wine type  alcohol  \n",
              "0       0.56        5          1      9.4  \n",
              "1       0.68        5          1      9.8  \n",
              "2       0.65        5          1      9.8  \n",
              "3       0.58        6          1      9.8  \n",
              "4       0.56        5          1      9.4  "
            ]
          },
          "execution_count": 3,
          "metadata": {},
          "output_type": "execute_result"
        }
      ],
      "source": [
        "import pandas as pd\n",
        "\n",
        "filename = 'wine_alcohol.csv'\n",
        "df = pd.read_csv(filename, sep=';')\n",
        "\n",
        "df.head()"
      ]
    },
    {
      "cell_type": "code",
      "execution_count": 4,
      "metadata": {
        "colab": {
          "base_uri": "https://localhost:8080/"
        },
        "id": "VAeH56FUHHzC",
        "outputId": "e0babc15-e068-467a-b02e-e798f6af7eca"
      },
      "outputs": [
        {
          "data": {
            "text/plain": [
              "True"
            ]
          },
          "execution_count": 4,
          "metadata": {},
          "output_type": "execute_result"
        }
      ],
      "source": [
        "len(df.index.unique()) == len(df['id'])"
      ]
    },
    {
      "cell_type": "code",
      "execution_count": 5,
      "metadata": {
        "colab": {
          "base_uri": "https://localhost:8080/",
          "height": 272
        },
        "id": "tXS7j3-DHHzC",
        "outputId": "f23fc7b7-e2e6-4601-b705-43b80ebdaea1"
      },
      "outputs": [
        {
          "data": {
            "text/html": [
              "<div>\n",
              "<style scoped>\n",
              "    .dataframe tbody tr th:only-of-type {\n",
              "        vertical-align: middle;\n",
              "    }\n",
              "\n",
              "    .dataframe tbody tr th {\n",
              "        vertical-align: top;\n",
              "    }\n",
              "\n",
              "    .dataframe thead th {\n",
              "        text-align: right;\n",
              "    }\n",
              "</style>\n",
              "<table border=\"1\" class=\"dataframe\">\n",
              "  <thead>\n",
              "    <tr style=\"text-align: right;\">\n",
              "      <th></th>\n",
              "      <th>fixed acidity</th>\n",
              "      <th>volatile acidity</th>\n",
              "      <th>citric acid</th>\n",
              "      <th>residual sugar</th>\n",
              "      <th>chlorides</th>\n",
              "      <th>free sulfur dioxide</th>\n",
              "      <th>total sulfur dioxide</th>\n",
              "      <th>density</th>\n",
              "      <th>pH</th>\n",
              "      <th>sulphates</th>\n",
              "      <th>quality</th>\n",
              "      <th>wine type</th>\n",
              "      <th>alcohol</th>\n",
              "    </tr>\n",
              "    <tr>\n",
              "      <th>id</th>\n",
              "      <th></th>\n",
              "      <th></th>\n",
              "      <th></th>\n",
              "      <th></th>\n",
              "      <th></th>\n",
              "      <th></th>\n",
              "      <th></th>\n",
              "      <th></th>\n",
              "      <th></th>\n",
              "      <th></th>\n",
              "      <th></th>\n",
              "      <th></th>\n",
              "      <th></th>\n",
              "    </tr>\n",
              "  </thead>\n",
              "  <tbody>\n",
              "    <tr>\n",
              "      <th>0</th>\n",
              "      <td>7.4</td>\n",
              "      <td>0.70</td>\n",
              "      <td>0.00</td>\n",
              "      <td>1.9</td>\n",
              "      <td>0.076</td>\n",
              "      <td>11.0</td>\n",
              "      <td>34.0</td>\n",
              "      <td>0.9978</td>\n",
              "      <td>3.51</td>\n",
              "      <td>0.56</td>\n",
              "      <td>5</td>\n",
              "      <td>1</td>\n",
              "      <td>9.4</td>\n",
              "    </tr>\n",
              "    <tr>\n",
              "      <th>1</th>\n",
              "      <td>7.8</td>\n",
              "      <td>0.88</td>\n",
              "      <td>0.00</td>\n",
              "      <td>2.6</td>\n",
              "      <td>0.098</td>\n",
              "      <td>25.0</td>\n",
              "      <td>67.0</td>\n",
              "      <td>0.9968</td>\n",
              "      <td>3.20</td>\n",
              "      <td>0.68</td>\n",
              "      <td>5</td>\n",
              "      <td>1</td>\n",
              "      <td>9.8</td>\n",
              "    </tr>\n",
              "    <tr>\n",
              "      <th>2</th>\n",
              "      <td>7.8</td>\n",
              "      <td>0.76</td>\n",
              "      <td>0.04</td>\n",
              "      <td>2.3</td>\n",
              "      <td>0.092</td>\n",
              "      <td>15.0</td>\n",
              "      <td>54.0</td>\n",
              "      <td>0.9970</td>\n",
              "      <td>3.26</td>\n",
              "      <td>0.65</td>\n",
              "      <td>5</td>\n",
              "      <td>1</td>\n",
              "      <td>9.8</td>\n",
              "    </tr>\n",
              "    <tr>\n",
              "      <th>3</th>\n",
              "      <td>11.2</td>\n",
              "      <td>0.28</td>\n",
              "      <td>0.56</td>\n",
              "      <td>1.9</td>\n",
              "      <td>0.075</td>\n",
              "      <td>17.0</td>\n",
              "      <td>60.0</td>\n",
              "      <td>0.9980</td>\n",
              "      <td>3.16</td>\n",
              "      <td>0.58</td>\n",
              "      <td>6</td>\n",
              "      <td>1</td>\n",
              "      <td>9.8</td>\n",
              "    </tr>\n",
              "    <tr>\n",
              "      <th>4</th>\n",
              "      <td>7.4</td>\n",
              "      <td>0.70</td>\n",
              "      <td>0.00</td>\n",
              "      <td>1.9</td>\n",
              "      <td>0.076</td>\n",
              "      <td>11.0</td>\n",
              "      <td>34.0</td>\n",
              "      <td>0.9978</td>\n",
              "      <td>3.51</td>\n",
              "      <td>0.56</td>\n",
              "      <td>5</td>\n",
              "      <td>1</td>\n",
              "      <td>9.4</td>\n",
              "    </tr>\n",
              "  </tbody>\n",
              "</table>\n",
              "</div>"
            ],
            "text/plain": [
              "    fixed acidity  volatile acidity  citric acid  residual sugar  chlorides  \\\n",
              "id                                                                            \n",
              "0             7.4              0.70         0.00             1.9      0.076   \n",
              "1             7.8              0.88         0.00             2.6      0.098   \n",
              "2             7.8              0.76         0.04             2.3      0.092   \n",
              "3            11.2              0.28         0.56             1.9      0.075   \n",
              "4             7.4              0.70         0.00             1.9      0.076   \n",
              "\n",
              "    free sulfur dioxide  total sulfur dioxide  density    pH  sulphates  \\\n",
              "id                                                                        \n",
              "0                  11.0                  34.0   0.9978  3.51       0.56   \n",
              "1                  25.0                  67.0   0.9968  3.20       0.68   \n",
              "2                  15.0                  54.0   0.9970  3.26       0.65   \n",
              "3                  17.0                  60.0   0.9980  3.16       0.58   \n",
              "4                  11.0                  34.0   0.9978  3.51       0.56   \n",
              "\n",
              "    quality  wine type  alcohol  \n",
              "id                               \n",
              "0         5          1      9.4  \n",
              "1         5          1      9.8  \n",
              "2         5          1      9.8  \n",
              "3         6          1      9.8  \n",
              "4         5          1      9.4  "
            ]
          },
          "execution_count": 5,
          "metadata": {},
          "output_type": "execute_result"
        }
      ],
      "source": [
        "df = df.set_index('id')\n",
        "df.head()"
      ]
    },
    {
      "cell_type": "code",
      "execution_count": 6,
      "metadata": {
        "colab": {
          "base_uri": "https://localhost:8080/"
        },
        "id": "x86vwyWXHHzD",
        "outputId": "54f9cd45-a328-4914-b55c-6b850d30a184"
      },
      "outputs": [
        {
          "name": "stdout",
          "output_type": "stream",
          "text": [
            "<class 'pandas.core.frame.DataFrame'>\n",
            "Index: 6497 entries, 0 to 4897\n",
            "Data columns (total 13 columns):\n",
            " #   Column                Non-Null Count  Dtype  \n",
            "---  ------                --------------  -----  \n",
            " 0   fixed acidity         6497 non-null   float64\n",
            " 1   volatile acidity      6497 non-null   float64\n",
            " 2   citric acid           6497 non-null   float64\n",
            " 3   residual sugar        6497 non-null   float64\n",
            " 4   chlorides             6497 non-null   float64\n",
            " 5   free sulfur dioxide   6497 non-null   float64\n",
            " 6   total sulfur dioxide  6497 non-null   float64\n",
            " 7   density               6497 non-null   float64\n",
            " 8   pH                    6497 non-null   float64\n",
            " 9   sulphates             6497 non-null   float64\n",
            " 10  quality               6497 non-null   int64  \n",
            " 11  wine type             6497 non-null   int64  \n",
            " 12  alcohol               6497 non-null   float64\n",
            "dtypes: float64(11), int64(2)\n",
            "memory usage: 710.6 KB\n"
          ]
        }
      ],
      "source": [
        "df.info()"
      ]
    },
    {
      "cell_type": "code",
      "execution_count": 7,
      "metadata": {
        "colab": {
          "base_uri": "https://localhost:8080/",
          "height": 474
        },
        "id": "hHa5souKHHzD",
        "outputId": "59d53cac-0351-4614-d8e7-b14cadb277fc"
      },
      "outputs": [
        {
          "name": "stdout",
          "output_type": "stream",
          "text": [
            "Número total de NA en el dataframe: 0\n"
          ]
        },
        {
          "data": {
            "text/html": [
              "<div>\n",
              "<style scoped>\n",
              "    .dataframe tbody tr th:only-of-type {\n",
              "        vertical-align: middle;\n",
              "    }\n",
              "\n",
              "    .dataframe tbody tr th {\n",
              "        vertical-align: top;\n",
              "    }\n",
              "\n",
              "    .dataframe thead th {\n",
              "        text-align: right;\n",
              "    }\n",
              "</style>\n",
              "<table border=\"1\" class=\"dataframe\">\n",
              "  <thead>\n",
              "    <tr style=\"text-align: right;\">\n",
              "      <th></th>\n",
              "      <th>Valores NA</th>\n",
              "    </tr>\n",
              "  </thead>\n",
              "  <tbody>\n",
              "    <tr>\n",
              "      <th>fixed acidity</th>\n",
              "      <td>0</td>\n",
              "    </tr>\n",
              "    <tr>\n",
              "      <th>volatile acidity</th>\n",
              "      <td>0</td>\n",
              "    </tr>\n",
              "    <tr>\n",
              "      <th>citric acid</th>\n",
              "      <td>0</td>\n",
              "    </tr>\n",
              "    <tr>\n",
              "      <th>residual sugar</th>\n",
              "      <td>0</td>\n",
              "    </tr>\n",
              "    <tr>\n",
              "      <th>chlorides</th>\n",
              "      <td>0</td>\n",
              "    </tr>\n",
              "    <tr>\n",
              "      <th>free sulfur dioxide</th>\n",
              "      <td>0</td>\n",
              "    </tr>\n",
              "    <tr>\n",
              "      <th>total sulfur dioxide</th>\n",
              "      <td>0</td>\n",
              "    </tr>\n",
              "    <tr>\n",
              "      <th>density</th>\n",
              "      <td>0</td>\n",
              "    </tr>\n",
              "    <tr>\n",
              "      <th>pH</th>\n",
              "      <td>0</td>\n",
              "    </tr>\n",
              "    <tr>\n",
              "      <th>sulphates</th>\n",
              "      <td>0</td>\n",
              "    </tr>\n",
              "    <tr>\n",
              "      <th>quality</th>\n",
              "      <td>0</td>\n",
              "    </tr>\n",
              "    <tr>\n",
              "      <th>wine type</th>\n",
              "      <td>0</td>\n",
              "    </tr>\n",
              "    <tr>\n",
              "      <th>alcohol</th>\n",
              "      <td>0</td>\n",
              "    </tr>\n",
              "  </tbody>\n",
              "</table>\n",
              "</div>"
            ],
            "text/plain": [
              "                      Valores NA\n",
              "fixed acidity                  0\n",
              "volatile acidity               0\n",
              "citric acid                    0\n",
              "residual sugar                 0\n",
              "chlorides                      0\n",
              "free sulfur dioxide            0\n",
              "total sulfur dioxide           0\n",
              "density                        0\n",
              "pH                             0\n",
              "sulphates                      0\n",
              "quality                        0\n",
              "wine type                      0\n",
              "alcohol                        0"
            ]
          },
          "execution_count": 7,
          "metadata": {},
          "output_type": "execute_result"
        }
      ],
      "source": [
        "print(f'Número total de NA en el dataframe: {(col_na:=df.isna().sum()).sum()}')\n",
        "pd.DataFrame({'Valores NA': col_na})"
      ]
    },
    {
      "cell_type": "code",
      "execution_count": 8,
      "metadata": {
        "colab": {
          "base_uri": "https://localhost:8080/",
          "height": 457
        },
        "id": "er7TFmqTHHzD",
        "outputId": "0b755f01-3ce3-4371-d4f9-695e6f5dacbe"
      },
      "outputs": [
        {
          "data": {
            "text/html": [
              "<div>\n",
              "<style scoped>\n",
              "    .dataframe tbody tr th:only-of-type {\n",
              "        vertical-align: middle;\n",
              "    }\n",
              "\n",
              "    .dataframe tbody tr th {\n",
              "        vertical-align: top;\n",
              "    }\n",
              "\n",
              "    .dataframe thead th {\n",
              "        text-align: right;\n",
              "    }\n",
              "</style>\n",
              "<table border=\"1\" class=\"dataframe\">\n",
              "  <thead>\n",
              "    <tr style=\"text-align: right;\">\n",
              "      <th></th>\n",
              "      <th>mean</th>\n",
              "      <th>std</th>\n",
              "      <th>min</th>\n",
              "      <th>max</th>\n",
              "    </tr>\n",
              "  </thead>\n",
              "  <tbody>\n",
              "    <tr>\n",
              "      <th>fixed acidity</th>\n",
              "      <td>7.215307</td>\n",
              "      <td>1.296434</td>\n",
              "      <td>3.80000</td>\n",
              "      <td>15.90000</td>\n",
              "    </tr>\n",
              "    <tr>\n",
              "      <th>volatile acidity</th>\n",
              "      <td>0.339666</td>\n",
              "      <td>0.164636</td>\n",
              "      <td>0.08000</td>\n",
              "      <td>1.58000</td>\n",
              "    </tr>\n",
              "    <tr>\n",
              "      <th>citric acid</th>\n",
              "      <td>0.318633</td>\n",
              "      <td>0.145318</td>\n",
              "      <td>0.00000</td>\n",
              "      <td>1.66000</td>\n",
              "    </tr>\n",
              "    <tr>\n",
              "      <th>residual sugar</th>\n",
              "      <td>5.443235</td>\n",
              "      <td>4.757804</td>\n",
              "      <td>0.60000</td>\n",
              "      <td>65.80000</td>\n",
              "    </tr>\n",
              "    <tr>\n",
              "      <th>chlorides</th>\n",
              "      <td>0.056034</td>\n",
              "      <td>0.035034</td>\n",
              "      <td>0.00900</td>\n",
              "      <td>0.61100</td>\n",
              "    </tr>\n",
              "    <tr>\n",
              "      <th>free sulfur dioxide</th>\n",
              "      <td>30.525319</td>\n",
              "      <td>17.749400</td>\n",
              "      <td>1.00000</td>\n",
              "      <td>289.00000</td>\n",
              "    </tr>\n",
              "    <tr>\n",
              "      <th>total sulfur dioxide</th>\n",
              "      <td>115.744574</td>\n",
              "      <td>56.521855</td>\n",
              "      <td>6.00000</td>\n",
              "      <td>440.00000</td>\n",
              "    </tr>\n",
              "    <tr>\n",
              "      <th>density</th>\n",
              "      <td>0.994697</td>\n",
              "      <td>0.002999</td>\n",
              "      <td>0.98711</td>\n",
              "      <td>1.03898</td>\n",
              "    </tr>\n",
              "    <tr>\n",
              "      <th>pH</th>\n",
              "      <td>3.218501</td>\n",
              "      <td>0.160787</td>\n",
              "      <td>2.72000</td>\n",
              "      <td>4.01000</td>\n",
              "    </tr>\n",
              "    <tr>\n",
              "      <th>sulphates</th>\n",
              "      <td>0.531268</td>\n",
              "      <td>0.148806</td>\n",
              "      <td>0.22000</td>\n",
              "      <td>2.00000</td>\n",
              "    </tr>\n",
              "    <tr>\n",
              "      <th>quality</th>\n",
              "      <td>5.818378</td>\n",
              "      <td>0.873255</td>\n",
              "      <td>3.00000</td>\n",
              "      <td>9.00000</td>\n",
              "    </tr>\n",
              "    <tr>\n",
              "      <th>wine type</th>\n",
              "      <td>1.753886</td>\n",
              "      <td>0.430779</td>\n",
              "      <td>1.00000</td>\n",
              "      <td>2.00000</td>\n",
              "    </tr>\n",
              "    <tr>\n",
              "      <th>alcohol</th>\n",
              "      <td>10.491801</td>\n",
              "      <td>1.192712</td>\n",
              "      <td>8.00000</td>\n",
              "      <td>14.90000</td>\n",
              "    </tr>\n",
              "  </tbody>\n",
              "</table>\n",
              "</div>"
            ],
            "text/plain": [
              "                            mean        std      min        max\n",
              "fixed acidity           7.215307   1.296434  3.80000   15.90000\n",
              "volatile acidity        0.339666   0.164636  0.08000    1.58000\n",
              "citric acid             0.318633   0.145318  0.00000    1.66000\n",
              "residual sugar          5.443235   4.757804  0.60000   65.80000\n",
              "chlorides               0.056034   0.035034  0.00900    0.61100\n",
              "free sulfur dioxide    30.525319  17.749400  1.00000  289.00000\n",
              "total sulfur dioxide  115.744574  56.521855  6.00000  440.00000\n",
              "density                 0.994697   0.002999  0.98711    1.03898\n",
              "pH                      3.218501   0.160787  2.72000    4.01000\n",
              "sulphates               0.531268   0.148806  0.22000    2.00000\n",
              "quality                 5.818378   0.873255  3.00000    9.00000\n",
              "wine type               1.753886   0.430779  1.00000    2.00000\n",
              "alcohol                10.491801   1.192712  8.00000   14.90000"
            ]
          },
          "execution_count": 8,
          "metadata": {},
          "output_type": "execute_result"
        }
      ],
      "source": [
        "significant_info = ['mean', 'std', 'min', 'max']\n",
        "df.describe().T.loc[:, significant_info]"
      ]
    },
    {
      "cell_type": "code",
      "execution_count": 9,
      "metadata": {
        "colab": {
          "base_uri": "https://localhost:8080/",
          "height": 272
        },
        "id": "PFOc-hhpHHzE",
        "outputId": "649ddfec-421e-4289-efc0-010559d0845f"
      },
      "outputs": [
        {
          "data": {
            "text/html": [
              "<div>\n",
              "<style scoped>\n",
              "    .dataframe tbody tr th:only-of-type {\n",
              "        vertical-align: middle;\n",
              "    }\n",
              "\n",
              "    .dataframe tbody tr th {\n",
              "        vertical-align: top;\n",
              "    }\n",
              "\n",
              "    .dataframe thead th {\n",
              "        text-align: right;\n",
              "    }\n",
              "</style>\n",
              "<table border=\"1\" class=\"dataframe\">\n",
              "  <thead>\n",
              "    <tr style=\"text-align: right;\">\n",
              "      <th></th>\n",
              "      <th>fixed acidity</th>\n",
              "      <th>volatile acidity</th>\n",
              "      <th>citric acid</th>\n",
              "      <th>residual sugar</th>\n",
              "      <th>chlorides</th>\n",
              "      <th>free sulfur dioxide</th>\n",
              "      <th>total sulfur dioxide</th>\n",
              "      <th>density</th>\n",
              "      <th>pH</th>\n",
              "      <th>sulphates</th>\n",
              "      <th>quality</th>\n",
              "      <th>wine type</th>\n",
              "      <th>alcohol</th>\n",
              "    </tr>\n",
              "    <tr>\n",
              "      <th>id</th>\n",
              "      <th></th>\n",
              "      <th></th>\n",
              "      <th></th>\n",
              "      <th></th>\n",
              "      <th></th>\n",
              "      <th></th>\n",
              "      <th></th>\n",
              "      <th></th>\n",
              "      <th></th>\n",
              "      <th></th>\n",
              "      <th></th>\n",
              "      <th></th>\n",
              "      <th></th>\n",
              "    </tr>\n",
              "  </thead>\n",
              "  <tbody>\n",
              "    <tr>\n",
              "      <th>0</th>\n",
              "      <td>7.4</td>\n",
              "      <td>0.70</td>\n",
              "      <td>0.00</td>\n",
              "      <td>1.9</td>\n",
              "      <td>0.076</td>\n",
              "      <td>11.0</td>\n",
              "      <td>34.0</td>\n",
              "      <td>0.9978</td>\n",
              "      <td>3.51</td>\n",
              "      <td>0.56</td>\n",
              "      <td>bad</td>\n",
              "      <td>1</td>\n",
              "      <td>9.4</td>\n",
              "    </tr>\n",
              "    <tr>\n",
              "      <th>1</th>\n",
              "      <td>7.8</td>\n",
              "      <td>0.88</td>\n",
              "      <td>0.00</td>\n",
              "      <td>2.6</td>\n",
              "      <td>0.098</td>\n",
              "      <td>25.0</td>\n",
              "      <td>67.0</td>\n",
              "      <td>0.9968</td>\n",
              "      <td>3.20</td>\n",
              "      <td>0.68</td>\n",
              "      <td>bad</td>\n",
              "      <td>1</td>\n",
              "      <td>9.8</td>\n",
              "    </tr>\n",
              "    <tr>\n",
              "      <th>2</th>\n",
              "      <td>7.8</td>\n",
              "      <td>0.76</td>\n",
              "      <td>0.04</td>\n",
              "      <td>2.3</td>\n",
              "      <td>0.092</td>\n",
              "      <td>15.0</td>\n",
              "      <td>54.0</td>\n",
              "      <td>0.9970</td>\n",
              "      <td>3.26</td>\n",
              "      <td>0.65</td>\n",
              "      <td>bad</td>\n",
              "      <td>1</td>\n",
              "      <td>9.8</td>\n",
              "    </tr>\n",
              "    <tr>\n",
              "      <th>3</th>\n",
              "      <td>11.2</td>\n",
              "      <td>0.28</td>\n",
              "      <td>0.56</td>\n",
              "      <td>1.9</td>\n",
              "      <td>0.075</td>\n",
              "      <td>17.0</td>\n",
              "      <td>60.0</td>\n",
              "      <td>0.9980</td>\n",
              "      <td>3.16</td>\n",
              "      <td>0.58</td>\n",
              "      <td>normal</td>\n",
              "      <td>1</td>\n",
              "      <td>9.8</td>\n",
              "    </tr>\n",
              "    <tr>\n",
              "      <th>4</th>\n",
              "      <td>7.4</td>\n",
              "      <td>0.70</td>\n",
              "      <td>0.00</td>\n",
              "      <td>1.9</td>\n",
              "      <td>0.076</td>\n",
              "      <td>11.0</td>\n",
              "      <td>34.0</td>\n",
              "      <td>0.9978</td>\n",
              "      <td>3.51</td>\n",
              "      <td>0.56</td>\n",
              "      <td>bad</td>\n",
              "      <td>1</td>\n",
              "      <td>9.4</td>\n",
              "    </tr>\n",
              "  </tbody>\n",
              "</table>\n",
              "</div>"
            ],
            "text/plain": [
              "    fixed acidity  volatile acidity  citric acid  residual sugar  chlorides  \\\n",
              "id                                                                            \n",
              "0             7.4              0.70         0.00             1.9      0.076   \n",
              "1             7.8              0.88         0.00             2.6      0.098   \n",
              "2             7.8              0.76         0.04             2.3      0.092   \n",
              "3            11.2              0.28         0.56             1.9      0.075   \n",
              "4             7.4              0.70         0.00             1.9      0.076   \n",
              "\n",
              "    free sulfur dioxide  total sulfur dioxide  density    pH  sulphates  \\\n",
              "id                                                                        \n",
              "0                  11.0                  34.0   0.9978  3.51       0.56   \n",
              "1                  25.0                  67.0   0.9968  3.20       0.68   \n",
              "2                  15.0                  54.0   0.9970  3.26       0.65   \n",
              "3                  17.0                  60.0   0.9980  3.16       0.58   \n",
              "4                  11.0                  34.0   0.9978  3.51       0.56   \n",
              "\n",
              "   quality  wine type  alcohol  \n",
              "id                              \n",
              "0      bad          1      9.4  \n",
              "1      bad          1      9.8  \n",
              "2      bad          1      9.8  \n",
              "3   normal          1      9.8  \n",
              "4      bad          1      9.4  "
            ]
          },
          "execution_count": 9,
          "metadata": {},
          "output_type": "execute_result"
        }
      ],
      "source": [
        "import pandas as pd\n",
        "\n",
        "bins = [0, 6, 7, float('inf')]\n",
        "labels = ['bad', 'normal', 'good']\n",
        "\n",
        "df['quality'] = pd.cut(df['quality'], bins=bins, labels=labels, right=False)\n",
        "\n",
        "df.head()"
      ]
    },
    {
      "cell_type": "code",
      "execution_count": 10,
      "metadata": {
        "colab": {
          "base_uri": "https://localhost:8080/",
          "height": 272
        },
        "id": "6-shRkcjHHzE",
        "outputId": "eb5fefd3-1c5d-449b-8d6c-90bbbc3f5d89"
      },
      "outputs": [
        {
          "data": {
            "text/html": [
              "<div>\n",
              "<style scoped>\n",
              "    .dataframe tbody tr th:only-of-type {\n",
              "        vertical-align: middle;\n",
              "    }\n",
              "\n",
              "    .dataframe tbody tr th {\n",
              "        vertical-align: top;\n",
              "    }\n",
              "\n",
              "    .dataframe thead th {\n",
              "        text-align: right;\n",
              "    }\n",
              "</style>\n",
              "<table border=\"1\" class=\"dataframe\">\n",
              "  <thead>\n",
              "    <tr style=\"text-align: right;\">\n",
              "      <th></th>\n",
              "      <th>fixed acidity</th>\n",
              "      <th>volatile acidity</th>\n",
              "      <th>citric acid</th>\n",
              "      <th>residual sugar</th>\n",
              "      <th>chlorides</th>\n",
              "      <th>free sulfur dioxide</th>\n",
              "      <th>total sulfur dioxide</th>\n",
              "      <th>density</th>\n",
              "      <th>pH</th>\n",
              "      <th>sulphates</th>\n",
              "      <th>quality</th>\n",
              "      <th>wine type</th>\n",
              "      <th>alcohol</th>\n",
              "    </tr>\n",
              "    <tr>\n",
              "      <th>id</th>\n",
              "      <th></th>\n",
              "      <th></th>\n",
              "      <th></th>\n",
              "      <th></th>\n",
              "      <th></th>\n",
              "      <th></th>\n",
              "      <th></th>\n",
              "      <th></th>\n",
              "      <th></th>\n",
              "      <th></th>\n",
              "      <th></th>\n",
              "      <th></th>\n",
              "      <th></th>\n",
              "    </tr>\n",
              "  </thead>\n",
              "  <tbody>\n",
              "    <tr>\n",
              "      <th>0</th>\n",
              "      <td>7.4</td>\n",
              "      <td>0.70</td>\n",
              "      <td>0.00</td>\n",
              "      <td>1.9</td>\n",
              "      <td>0.076</td>\n",
              "      <td>11.0</td>\n",
              "      <td>34.0</td>\n",
              "      <td>0.9978</td>\n",
              "      <td>3.51</td>\n",
              "      <td>0.56</td>\n",
              "      <td>bad</td>\n",
              "      <td>1</td>\n",
              "      <td>9.4</td>\n",
              "    </tr>\n",
              "    <tr>\n",
              "      <th>1</th>\n",
              "      <td>7.8</td>\n",
              "      <td>0.88</td>\n",
              "      <td>0.00</td>\n",
              "      <td>2.6</td>\n",
              "      <td>0.098</td>\n",
              "      <td>25.0</td>\n",
              "      <td>67.0</td>\n",
              "      <td>0.9968</td>\n",
              "      <td>3.20</td>\n",
              "      <td>0.68</td>\n",
              "      <td>bad</td>\n",
              "      <td>1</td>\n",
              "      <td>9.8</td>\n",
              "    </tr>\n",
              "    <tr>\n",
              "      <th>2</th>\n",
              "      <td>7.8</td>\n",
              "      <td>0.76</td>\n",
              "      <td>0.04</td>\n",
              "      <td>2.3</td>\n",
              "      <td>0.092</td>\n",
              "      <td>15.0</td>\n",
              "      <td>54.0</td>\n",
              "      <td>0.9970</td>\n",
              "      <td>3.26</td>\n",
              "      <td>0.65</td>\n",
              "      <td>bad</td>\n",
              "      <td>1</td>\n",
              "      <td>9.8</td>\n",
              "    </tr>\n",
              "    <tr>\n",
              "      <th>3</th>\n",
              "      <td>11.2</td>\n",
              "      <td>0.28</td>\n",
              "      <td>0.56</td>\n",
              "      <td>1.9</td>\n",
              "      <td>0.075</td>\n",
              "      <td>17.0</td>\n",
              "      <td>60.0</td>\n",
              "      <td>0.9980</td>\n",
              "      <td>3.16</td>\n",
              "      <td>0.58</td>\n",
              "      <td>normal</td>\n",
              "      <td>1</td>\n",
              "      <td>9.8</td>\n",
              "    </tr>\n",
              "    <tr>\n",
              "      <th>4</th>\n",
              "      <td>7.4</td>\n",
              "      <td>0.70</td>\n",
              "      <td>0.00</td>\n",
              "      <td>1.9</td>\n",
              "      <td>0.076</td>\n",
              "      <td>11.0</td>\n",
              "      <td>34.0</td>\n",
              "      <td>0.9978</td>\n",
              "      <td>3.51</td>\n",
              "      <td>0.56</td>\n",
              "      <td>bad</td>\n",
              "      <td>1</td>\n",
              "      <td>9.4</td>\n",
              "    </tr>\n",
              "  </tbody>\n",
              "</table>\n",
              "</div>"
            ],
            "text/plain": [
              "    fixed acidity  volatile acidity  citric acid  residual sugar  chlorides  \\\n",
              "id                                                                            \n",
              "0             7.4              0.70         0.00             1.9      0.076   \n",
              "1             7.8              0.88         0.00             2.6      0.098   \n",
              "2             7.8              0.76         0.04             2.3      0.092   \n",
              "3            11.2              0.28         0.56             1.9      0.075   \n",
              "4             7.4              0.70         0.00             1.9      0.076   \n",
              "\n",
              "    free sulfur dioxide  total sulfur dioxide  density    pH  sulphates  \\\n",
              "id                                                                        \n",
              "0                  11.0                  34.0   0.9978  3.51       0.56   \n",
              "1                  25.0                  67.0   0.9968  3.20       0.68   \n",
              "2                  15.0                  54.0   0.9970  3.26       0.65   \n",
              "3                  17.0                  60.0   0.9980  3.16       0.58   \n",
              "4                  11.0                  34.0   0.9978  3.51       0.56   \n",
              "\n",
              "   quality wine type  alcohol  \n",
              "id                             \n",
              "0      bad         1      9.4  \n",
              "1      bad         1      9.8  \n",
              "2      bad         1      9.8  \n",
              "3   normal         1      9.8  \n",
              "4      bad         1      9.4  "
            ]
          },
          "execution_count": 10,
          "metadata": {},
          "output_type": "execute_result"
        }
      ],
      "source": [
        "categorical_vars = ['quality', 'wine type']\n",
        "df[categorical_vars] = df[categorical_vars].astype('object')\n",
        "df.head()"
      ]
    },
    {
      "cell_type": "code",
      "execution_count": 11,
      "metadata": {
        "colab": {
          "base_uri": "https://localhost:8080/",
          "height": 272
        },
        "id": "7CHMYytLHHzF",
        "outputId": "3440eeb8-6d33-4a19-f5a1-b4bfc02f0875"
      },
      "outputs": [
        {
          "data": {
            "text/html": [
              "<div>\n",
              "<style scoped>\n",
              "    .dataframe tbody tr th:only-of-type {\n",
              "        vertical-align: middle;\n",
              "    }\n",
              "\n",
              "    .dataframe tbody tr th {\n",
              "        vertical-align: top;\n",
              "    }\n",
              "\n",
              "    .dataframe thead th {\n",
              "        text-align: right;\n",
              "    }\n",
              "</style>\n",
              "<table border=\"1\" class=\"dataframe\">\n",
              "  <thead>\n",
              "    <tr style=\"text-align: right;\">\n",
              "      <th></th>\n",
              "      <th>fixed acidity</th>\n",
              "      <th>volatile acidity</th>\n",
              "      <th>citric acid</th>\n",
              "      <th>residual sugar</th>\n",
              "      <th>chlorides</th>\n",
              "      <th>free sulfur dioxide</th>\n",
              "      <th>total sulfur dioxide</th>\n",
              "      <th>density</th>\n",
              "      <th>pH</th>\n",
              "      <th>sulphates</th>\n",
              "      <th>quality</th>\n",
              "      <th>wine type</th>\n",
              "      <th>alcohol</th>\n",
              "    </tr>\n",
              "    <tr>\n",
              "      <th>id</th>\n",
              "      <th></th>\n",
              "      <th></th>\n",
              "      <th></th>\n",
              "      <th></th>\n",
              "      <th></th>\n",
              "      <th></th>\n",
              "      <th></th>\n",
              "      <th></th>\n",
              "      <th></th>\n",
              "      <th></th>\n",
              "      <th></th>\n",
              "      <th></th>\n",
              "      <th></th>\n",
              "    </tr>\n",
              "  </thead>\n",
              "  <tbody>\n",
              "    <tr>\n",
              "      <th>0</th>\n",
              "      <td>0.142473</td>\n",
              "      <td>2.188833</td>\n",
              "      <td>-2.192833</td>\n",
              "      <td>-0.744778</td>\n",
              "      <td>0.569958</td>\n",
              "      <td>-1.100140</td>\n",
              "      <td>-1.446359</td>\n",
              "      <td>1.034993</td>\n",
              "      <td>1.813090</td>\n",
              "      <td>0.193097</td>\n",
              "      <td>bad</td>\n",
              "      <td>1</td>\n",
              "      <td>-0.915464</td>\n",
              "    </tr>\n",
              "    <tr>\n",
              "      <th>1</th>\n",
              "      <td>0.451036</td>\n",
              "      <td>3.282235</td>\n",
              "      <td>-2.192833</td>\n",
              "      <td>-0.597640</td>\n",
              "      <td>1.197975</td>\n",
              "      <td>-0.311320</td>\n",
              "      <td>-0.862469</td>\n",
              "      <td>0.701486</td>\n",
              "      <td>-0.115073</td>\n",
              "      <td>0.999579</td>\n",
              "      <td>bad</td>\n",
              "      <td>1</td>\n",
              "      <td>-0.580068</td>\n",
              "    </tr>\n",
              "    <tr>\n",
              "      <th>2</th>\n",
              "      <td>0.451036</td>\n",
              "      <td>2.553300</td>\n",
              "      <td>-1.917553</td>\n",
              "      <td>-0.660699</td>\n",
              "      <td>1.026697</td>\n",
              "      <td>-0.874763</td>\n",
              "      <td>-1.092486</td>\n",
              "      <td>0.768188</td>\n",
              "      <td>0.258120</td>\n",
              "      <td>0.797958</td>\n",
              "      <td>bad</td>\n",
              "      <td>1</td>\n",
              "      <td>-0.580068</td>\n",
              "    </tr>\n",
              "    <tr>\n",
              "      <th>3</th>\n",
              "      <td>3.073817</td>\n",
              "      <td>-0.362438</td>\n",
              "      <td>1.661085</td>\n",
              "      <td>-0.744778</td>\n",
              "      <td>0.541412</td>\n",
              "      <td>-0.762074</td>\n",
              "      <td>-0.986324</td>\n",
              "      <td>1.101694</td>\n",
              "      <td>-0.363868</td>\n",
              "      <td>0.327510</td>\n",
              "      <td>normal</td>\n",
              "      <td>1</td>\n",
              "      <td>-0.580068</td>\n",
              "    </tr>\n",
              "    <tr>\n",
              "      <th>4</th>\n",
              "      <td>0.142473</td>\n",
              "      <td>2.188833</td>\n",
              "      <td>-2.192833</td>\n",
              "      <td>-0.744778</td>\n",
              "      <td>0.569958</td>\n",
              "      <td>-1.100140</td>\n",
              "      <td>-1.446359</td>\n",
              "      <td>1.034993</td>\n",
              "      <td>1.813090</td>\n",
              "      <td>0.193097</td>\n",
              "      <td>bad</td>\n",
              "      <td>1</td>\n",
              "      <td>-0.915464</td>\n",
              "    </tr>\n",
              "  </tbody>\n",
              "</table>\n",
              "</div>"
            ],
            "text/plain": [
              "    fixed acidity  volatile acidity  citric acid  residual sugar  chlorides  \\\n",
              "id                                                                            \n",
              "0        0.142473          2.188833    -2.192833       -0.744778   0.569958   \n",
              "1        0.451036          3.282235    -2.192833       -0.597640   1.197975   \n",
              "2        0.451036          2.553300    -1.917553       -0.660699   1.026697   \n",
              "3        3.073817         -0.362438     1.661085       -0.744778   0.541412   \n",
              "4        0.142473          2.188833    -2.192833       -0.744778   0.569958   \n",
              "\n",
              "    free sulfur dioxide  total sulfur dioxide   density        pH  sulphates  \\\n",
              "id                                                                             \n",
              "0             -1.100140             -1.446359  1.034993  1.813090   0.193097   \n",
              "1             -0.311320             -0.862469  0.701486 -0.115073   0.999579   \n",
              "2             -0.874763             -1.092486  0.768188  0.258120   0.797958   \n",
              "3             -0.762074             -0.986324  1.101694 -0.363868   0.327510   \n",
              "4             -1.100140             -1.446359  1.034993  1.813090   0.193097   \n",
              "\n",
              "   quality wine type   alcohol  \n",
              "id                              \n",
              "0      bad         1 -0.915464  \n",
              "1      bad         1 -0.580068  \n",
              "2      bad         1 -0.580068  \n",
              "3   normal         1 -0.580068  \n",
              "4      bad         1 -0.915464  "
            ]
          },
          "execution_count": 11,
          "metadata": {},
          "output_type": "execute_result"
        }
      ],
      "source": [
        "from sklearn.preprocessing import StandardScaler\n",
        "scaler = StandardScaler()\n",
        "numeric_vars = df.select_dtypes(exclude='object').columns\n",
        "df[numeric_vars] = scaler.fit_transform(df[numeric_vars])\n",
        "df.head()"
      ]
    },
    {
      "cell_type": "code",
      "execution_count": 12,
      "metadata": {
        "colab": {
          "base_uri": "https://localhost:8080/",
          "height": 1000
        },
        "id": "ebby1OyuHHzF",
        "outputId": "a7515133-93e2-490c-9eb2-882e985a8a08"
      },
      "outputs": [
        {
          "data": {
            "image/png": "[encoded data removed]",
            "text/plain": [
              "<Figure size 640x480 with 1 Axes>"
            ]
          },
          "metadata": {},
          "output_type": "display_data"
        },
        {
          "name": "stdout",
          "output_type": "stream",
          "text": [
            "DataFrame con clusters:\n"
          ]
        },
        {
          "data": {
            "text/html": [
              "<div>\n",
              "<style scoped>\n",
              "    .dataframe tbody tr th:only-of-type {\n",
              "        vertical-align: middle;\n",
              "    }\n",
              "\n",
              "    .dataframe tbody tr th {\n",
              "        vertical-align: top;\n",
              "    }\n",
              "\n",
              "    .dataframe thead th {\n",
              "        text-align: right;\n",
              "    }\n",
              "</style>\n",
              "<table border=\"1\" class=\"dataframe\">\n",
              "  <thead>\n",
              "    <tr style=\"text-align: right;\">\n",
              "      <th></th>\n",
              "      <th>fixed acidity</th>\n",
              "      <th>volatile acidity</th>\n",
              "      <th>citric acid</th>\n",
              "      <th>residual sugar</th>\n",
              "      <th>chlorides</th>\n",
              "      <th>free sulfur dioxide</th>\n",
              "      <th>total sulfur dioxide</th>\n",
              "      <th>density</th>\n",
              "      <th>pH</th>\n",
              "      <th>sulphates</th>\n",
              "      <th>quality</th>\n",
              "      <th>wine type</th>\n",
              "      <th>alcohol</th>\n",
              "      <th>Cluster</th>\n",
              "    </tr>\n",
              "    <tr>\n",
              "      <th>id</th>\n",
              "      <th></th>\n",
              "      <th></th>\n",
              "      <th></th>\n",
              "      <th></th>\n",
              "      <th></th>\n",
              "      <th></th>\n",
              "      <th></th>\n",
              "      <th></th>\n",
              "      <th></th>\n",
              "      <th></th>\n",
              "      <th></th>\n",
              "      <th></th>\n",
              "      <th></th>\n",
              "      <th></th>\n",
              "    </tr>\n",
              "  </thead>\n",
              "  <tbody>\n",
              "    <tr>\n",
              "      <th>0</th>\n",
              "      <td>0.142473</td>\n",
              "      <td>2.188833</td>\n",
              "      <td>-2.192833</td>\n",
              "      <td>-0.744778</td>\n",
              "      <td>0.569958</td>\n",
              "      <td>-1.100140</td>\n",
              "      <td>-1.446359</td>\n",
              "      <td>1.034993</td>\n",
              "      <td>1.813090</td>\n",
              "      <td>0.193097</td>\n",
              "      <td>bad</td>\n",
              "      <td>1</td>\n",
              "      <td>-0.915464</td>\n",
              "      <td>1</td>\n",
              "    </tr>\n",
              "    <tr>\n",
              "      <th>1</th>\n",
              "      <td>0.451036</td>\n",
              "      <td>3.282235</td>\n",
              "      <td>-2.192833</td>\n",
              "      <td>-0.597640</td>\n",
              "      <td>1.197975</td>\n",
              "      <td>-0.311320</td>\n",
              "      <td>-0.862469</td>\n",
              "      <td>0.701486</td>\n",
              "      <td>-0.115073</td>\n",
              "      <td>0.999579</td>\n",
              "      <td>bad</td>\n",
              "      <td>1</td>\n",
              "      <td>-0.580068</td>\n",
              "      <td>1</td>\n",
              "    </tr>\n",
              "    <tr>\n",
              "      <th>2</th>\n",
              "      <td>0.451036</td>\n",
              "      <td>2.553300</td>\n",
              "      <td>-1.917553</td>\n",
              "      <td>-0.660699</td>\n",
              "      <td>1.026697</td>\n",
              "      <td>-0.874763</td>\n",
              "      <td>-1.092486</td>\n",
              "      <td>0.768188</td>\n",
              "      <td>0.258120</td>\n",
              "      <td>0.797958</td>\n",
              "      <td>bad</td>\n",
              "      <td>1</td>\n",
              "      <td>-0.580068</td>\n",
              "      <td>1</td>\n",
              "    </tr>\n",
              "    <tr>\n",
              "      <th>3</th>\n",
              "      <td>3.073817</td>\n",
              "      <td>-0.362438</td>\n",
              "      <td>1.661085</td>\n",
              "      <td>-0.744778</td>\n",
              "      <td>0.541412</td>\n",
              "      <td>-0.762074</td>\n",
              "      <td>-0.986324</td>\n",
              "      <td>1.101694</td>\n",
              "      <td>-0.363868</td>\n",
              "      <td>0.327510</td>\n",
              "      <td>normal</td>\n",
              "      <td>1</td>\n",
              "      <td>-0.580068</td>\n",
              "      <td>1</td>\n",
              "    </tr>\n",
              "    <tr>\n",
              "      <th>4</th>\n",
              "      <td>0.142473</td>\n",
              "      <td>2.188833</td>\n",
              "      <td>-2.192833</td>\n",
              "      <td>-0.744778</td>\n",
              "      <td>0.569958</td>\n",
              "      <td>-1.100140</td>\n",
              "      <td>-1.446359</td>\n",
              "      <td>1.034993</td>\n",
              "      <td>1.813090</td>\n",
              "      <td>0.193097</td>\n",
              "      <td>bad</td>\n",
              "      <td>1</td>\n",
              "      <td>-0.915464</td>\n",
              "      <td>1</td>\n",
              "    </tr>\n",
              "  </tbody>\n",
              "</table>\n",
              "</div>"
            ],
            "text/plain": [
              "    fixed acidity  volatile acidity  citric acid  residual sugar  chlorides  \\\n",
              "id                                                                            \n",
              "0        0.142473          2.188833    -2.192833       -0.744778   0.569958   \n",
              "1        0.451036          3.282235    -2.192833       -0.597640   1.197975   \n",
              "2        0.451036          2.553300    -1.917553       -0.660699   1.026697   \n",
              "3        3.073817         -0.362438     1.661085       -0.744778   0.541412   \n",
              "4        0.142473          2.188833    -2.192833       -0.744778   0.569958   \n",
              "\n",
              "    free sulfur dioxide  total sulfur dioxide   density        pH  sulphates  \\\n",
              "id                                                                             \n",
              "0             -1.100140             -1.446359  1.034993  1.813090   0.193097   \n",
              "1             -0.311320             -0.862469  0.701486 -0.115073   0.999579   \n",
              "2             -0.874763             -1.092486  0.768188  0.258120   0.797958   \n",
              "3             -0.762074             -0.986324  1.101694 -0.363868   0.327510   \n",
              "4             -1.100140             -1.446359  1.034993  1.813090   0.193097   \n",
              "\n",
              "   quality wine type   alcohol  Cluster  \n",
              "id                                       \n",
              "0      bad         1 -0.915464        1  \n",
              "1      bad         1 -0.580068        1  \n",
              "2      bad         1 -0.580068        1  \n",
              "3   normal         1 -0.580068        1  \n",
              "4      bad         1 -0.915464        1  "
            ]
          },
          "execution_count": 12,
          "metadata": {},
          "output_type": "execute_result"
        }
      ],
      "source": [
        "from scipy.cluster.hierarchy import linkage, dendrogram, fcluster\n",
        "from gower.gower_dist import gower_matrix\n",
        "import matplotlib.pyplot as plt\n",
        "from scipy.spatial.distance import squareform\n",
        "\n",
        "gower_mat = gower_matrix(df)\n",
        "# Realiza el clustering jerárquico\n",
        "linkage_matrix = linkage(squareform(gower_mat), method='average')  # Puedes elegir otro método de linkage\n",
        "dendrogram(linkage_matrix, p=30, truncate_mode='lastp')\n",
        "plt.title(\"Dendrograma\")\n",
        "plt.xlabel(\"Índice de fila\")\n",
        "plt.ylabel(\"Distancia\")\n",
        "plt.show()\n",
        "# Determina el número de clusters\n",
        "k = 2  # Puedes elegir otro número de clusters\n",
        "clusters = fcluster(linkage_matrix, t=k, criterion='maxclust')\n",
        "\n",
        "df['Cluster'] = clusters\n",
        "\n",
        "print(\"DataFrame con clusters:\")\n",
        "df.head()"
      ]
    },
    {
      "cell_type": "code",
      "execution_count": null,
      "metadata": {
        "id": "Q5jtD6voHHzH"
      },
      "outputs": [],
      "source": [
        "import matplotlib.pyplot as plt\n",
        "\n",
        "fig, axs = plt.subplots(nrows=1, ncols=len(df.columns), figsize=(15, 5))\n",
        "\n",
        "for i, columna in enumerate(df.columns):\n",
        "    axs[i].boxplot(df[columna])\n",
        "    axs[i].set_title(columna)\n",
        "\n",
        "plt.tight_layout()\n",
        "\n",
        "plt.show()"
      ]
    },
    {
      "cell_type": "markdown",
      "metadata": {
        "id": "izvPkOthHHzI"
      },
      "source": [
        "Se comienza tratando de eliminar valores que no tengan sentido en las variables:\n",
        "\n",
        "- fixed acidity\n",
        "- volatile acidity\n",
        "- citric acid\n",
        "- residual sugar\n",
        "- chlorides\n",
        "- free sulfur dioxide\n",
        "- total sulfur dioxide\n",
        "- density\n",
        "- pH\n",
        "- sulphates\n",
        "- quality\n",
        "- winetype\n",
        "- alcohol"
      ]
    },
    {
      "cell_type": "markdown",
      "metadata": {
        "id": "2c5USpdSHHzI"
      },
      "source": [
        "Como no somos expertos en el campo, vamos a estudiar un subconjunto de las variables para la limpieza del dataset, y posteriormente estimaremos la forma de eliminar outliers de todas las variables sin atender al significado de los outliers en variables que no pertenezcan al subconjunto de limpieza."
      ]
    },
    {
      "cell_type": "markdown",
      "metadata": {
        "id": "EjKjTITIHHzI"
      },
      "source": [
        "Subconjunto sobre el que se hace limpieza:\n",
        "- citric acid\n",
        "- pH\n",
        "- quality\n",
        "- winetype\n",
        "- alcohol"
      ]
    },
    {
      "cell_type": "markdown",
      "metadata": {
        "id": "SHQO6rZyHHzI"
      },
      "source": [
        "Aunque **fixed acidity** y **volatile acidity** son valores importantes no somos expertos y se definen a partir de la combinación de ácidos de distintos tipos, los excluimos del analisis inicial en limpieza.\n",
        "\n",
        "Solo haremos limpieza sobre la variable **citric acid** la cual nos indica la acidez que aporta el ácido cítrico, el cual es un ácido no volátil (en inglés non volatiles o **fixed acids**) que deberá estar correlacionado con los valores de la variable **fixed acid**."
      ]
    },
    {
      "cell_type": "markdown",
      "metadata": {
        "id": "sBF3SxOFHHzI"
      },
      "source": [
        "##### Variable: **citric acid**"
      ]
    },
    {
      "cell_type": "markdown",
      "metadata": {
        "id": "yjVShV3dHHzJ"
      },
      "source": [
        "Investigando un poco podemos suponer que la variable **citric acid** se expresa concentración, la cual se suele expresar en g/L, algo lógico al estar la media en 0.3 que tiene sentido estando el rango habitual(*) entre 0 y 1 g/L.\n",
        "\n",
        "(*Fuente: https://www.vinosycavasonline.es/los-aacidos-del-vino.-quae-son-y-caomo-se-forman.#:~:text=El%20%C3%A1cido%20c%C3%ADtrico%20est%C3%A1%20presente,1%2D1%20g%2Fl.)"
      ]
    },
    {
      "cell_type": "code",
      "execution_count": null,
      "metadata": {
        "id": "-oVfmwAiHHzJ"
      },
      "outputs": [],
      "source": [
        "df.describe().drop('count').T.loc[['citric acid'], :]"
      ]
    },
    {
      "cell_type": "markdown",
      "metadata": {
        "id": "lPKVS3LqHHzJ"
      },
      "source": [
        "No obstante, el máximo supera 1g/L lo cual no es posible al ser este el actual límite\n",
        "jurídico europeo(*).  \n",
        "\n",
        "(*Fuente: https://www.vason.com/uploads/MediaGalleryArticoliDocumenti/%C3%81cido%20C%C3%ADtrico%202_es.pdf)"
      ]
    },
    {
      "cell_type": "code",
      "execution_count": null,
      "metadata": {
        "id": "kuPCVcGOHHzJ"
      },
      "outputs": [],
      "source": [
        "c_acid_ilegal = df.loc[:, 'citric acid'] > 1\n",
        "print('Número de vinos ilegales:', c_acid_ilegal.sum())\n",
        "df[c_acid_ilegal].head()"
      ]
    },
    {
      "cell_type": "markdown",
      "metadata": {
        "id": "Em_vOzDkHHzJ"
      },
      "source": [
        "Se eliminan:"
      ]
    },
    {
      "cell_type": "code",
      "execution_count": null,
      "metadata": {
        "id": "Vrt-l2cVHHzK"
      },
      "outputs": [],
      "source": [
        "df = df[~c_acid_ilegal]\n",
        "len(df)"
      ]
    },
    {
      "cell_type": "markdown",
      "metadata": {
        "id": "hP4UVPkkHHzK"
      },
      "source": [
        "##### Variable: **pH**"
      ]
    },
    {
      "cell_type": "markdown",
      "metadata": {
        "id": "wZ8hYPZbHHzK"
      },
      "source": [
        "En cuanto a la variable **pH** los valores normales oscilan entre 3 y 4 (*), nuestros valores mínimo y máximo son 2.72 y 4.01 el valor máximo no se aleja del rango pero si que ocurre con el mínimo.\n",
        "\n",
        "(*Fuente: https://www.hannainst.es/blog/1513/pH-en-la-elaboracion-del-vino#:~:text=La%20mayor%C3%ADa%20de%20los%20vinos,m%C3%A1s%20comunes%20para%20los%20tintos.)"
      ]
    },
    {
      "cell_type": "markdown",
      "metadata": {
        "id": "0jJbGugQHHzK"
      },
      "source": [
        "Tomamos la decisión de aquellos por debajo de 3 convertirlos a 3 y aquellos por encima de 4 (aunque solo 0.01) convertirlos a 4:"
      ]
    },
    {
      "cell_type": "code",
      "execution_count": null,
      "metadata": {
        "id": "J07L2rE-HHzK"
      },
      "outputs": [],
      "source": [
        "ph_lt_3 = df.loc[:, 'pH'] < 3\n",
        "ph_gt_4 = df.loc[:, 'pH'] > 4\n",
        "\n",
        "print('Número de vinos con pH < 3:', ph_lt_3.sum())\n",
        "print('Número de vinos con pH > 4:', ph_gt_4.sum())\n",
        "\n",
        "df.loc[ph_lt_3, 'pH'] = 3\n",
        "df.loc[ph_gt_4, 'pH'] = 4\n",
        "\n",
        "print('Conversión a rango [3, 4]')\n",
        "df.describe().drop('count').T.loc[['pH'], :]"
      ]
    },
    {
      "cell_type": "markdown",
      "metadata": {
        "id": "p5fmNg6rHHzX"
      },
      "source": [
        "Se ha tomado esta decisión en vez de eliminar o sustituir por una medida de centralización como la media, por ser simple y no estar los valores excesivamente alejados (tan solo 0.3 unidades como mucho del rango)"
      ]
    },
    {
      "cell_type": "code",
      "execution_count": null,
      "metadata": {
        "id": "y7R53tklHHzX"
      },
      "outputs": [],
      "source": [
        "import matplotlib.pyplot as plt\n",
        "\n",
        "fig, axs = plt.subplots(nrows=1, ncols=1, figsize=(15, 5))\n",
        "\n",
        "axs.boxplot(df['pH'])\n",
        "axs.set_title('pH')\n",
        "\n",
        "plt.tight_layout()\n",
        "\n",
        "plt.show()"
      ]
    },
    {
      "cell_type": "markdown",
      "metadata": {
        "id": "eUl2kPjZHHzY"
      },
      "source": [
        "Aunque sigan existiendo outliers que se alejan de la muestra ahora se ha pasado a un rango más adecuado y estos tienen sentido."
      ]
    },
    {
      "cell_type": "markdown",
      "metadata": {
        "id": "rVNGanPTHHzY"
      },
      "source": [
        "##### Variable: **quality**"
      ]
    },
    {
      "cell_type": "markdown",
      "metadata": {
        "id": "q_OWlv_NHHzY"
      },
      "source": [
        "Existen 7 tipos de calidades registradas:"
      ]
    },
    {
      "cell_type": "code",
      "execution_count": null,
      "metadata": {
        "id": "OxXYz_mCHHzY"
      },
      "outputs": [],
      "source": [
        "possible_qualities = df['quality'].unique()\n",
        "possible_qualities"
      ]
    },
    {
      "cell_type": "markdown",
      "metadata": {
        "id": "cIHtspXRHHzY"
      },
      "source": [
        "Podemos ver su distribución mediante un histograma:"
      ]
    },
    {
      "cell_type": "code",
      "execution_count": null,
      "metadata": {
        "id": "uepwVtNZHHzZ"
      },
      "outputs": [],
      "source": [
        "quality_freq = df['quality'].value_counts()\n",
        "plt.bar(quality_freq.index, quality_freq.values)"
      ]
    },
    {
      "cell_type": "markdown",
      "metadata": {
        "id": "rC1-xumMHHzZ"
      },
      "source": [
        "Se trata de una variable categórica y nos indica que las clases no están igual de representadas, siendo la más frecuente los vinos con calidad 6. Una acción que podemos tomar es agrupar en 3 categorías:\n",
        "\n",
        "- malo: 3-5\n",
        "- normal: 6\n",
        "- bueno: 7-9\n",
        "\n",
        "Esta categorización nos permite reducir la dimensionalidad del espacio de valores posibles y conseguir categorías con frecuencias más próximas"
      ]
    },
    {
      "cell_type": "code",
      "execution_count": null,
      "metadata": {
        "id": "XJjQc1pLHHzZ"
      },
      "outputs": [],
      "source": [
        "var = 'quality'\n",
        "\n",
        "bad = df.loc[:, var] <= 5\n",
        "normal = df.loc[:, var] == 6\n",
        "good = df.loc[:, var] > 6\n",
        "\n",
        "df.loc[bad, var] = 'bad'\n",
        "df.loc[normal, var] = 'normal'\n",
        "df.loc[good, var] = 'good'\n",
        "\n",
        "quality_freq = df['quality'].value_counts()\n",
        "plt.bar(quality_freq.index, quality_freq.values)"
      ]
    },
    {
      "cell_type": "markdown",
      "metadata": {
        "id": "XHMoC9vnHHzZ"
      },
      "source": [
        "##### Variable: **winetype**"
      ]
    },
    {
      "cell_type": "markdown",
      "metadata": {
        "id": "1T_E5M-tHHza"
      },
      "source": [
        "La variable winetype no sabemos como se ha estimado, pero es sencilla, solo toma dos valores:"
      ]
    },
    {
      "cell_type": "code",
      "execution_count": null,
      "metadata": {
        "id": "WB4CbJFsHHza"
      },
      "outputs": [],
      "source": [
        "df['wine type'].unique()"
      ]
    },
    {
      "cell_type": "markdown",
      "metadata": {
        "id": "kqdnF9nKHHza"
      },
      "source": [
        "Existen más vinos que pertenecen al tipo 2 que al tipo 1:"
      ]
    },
    {
      "cell_type": "code",
      "execution_count": null,
      "metadata": {
        "id": "8YaTvUENHHzb"
      },
      "outputs": [],
      "source": [
        "winetype_freq = df['wine type'].value_counts()\n",
        "winetype_freq"
      ]
    },
    {
      "cell_type": "markdown",
      "metadata": {
        "id": "2v1YHjcZHHzb"
      },
      "source": [
        "Con un histograma se observa mejor:"
      ]
    },
    {
      "cell_type": "code",
      "execution_count": null,
      "metadata": {
        "id": "2Oa0_YbKHHzb"
      },
      "outputs": [],
      "source": [
        "plt.bar(winetype_freq.index, winetype_freq.values)"
      ]
    },
    {
      "cell_type": "markdown",
      "metadata": {
        "id": "dV5R5ALZHHzc"
      },
      "source": [
        "##### Variable: **alcohol**"
      ]
    },
    {
      "cell_type": "markdown",
      "metadata": {
        "id": "4skMh-uoHHzc"
      },
      "source": [
        "El alcohol en el vino se expresa en tanto y ronda entre 5.5% y 25%. Lo cual es coherente con los valores del dataset (suponemos que utilizan esta métrica)."
      ]
    },
    {
      "cell_type": "code",
      "execution_count": null,
      "metadata": {
        "id": "6LPF1tE5HHzc"
      },
      "outputs": [],
      "source": [
        "df.describe().drop('count').T.loc[['alcohol'], :]"
      ]
    },
    {
      "cell_type": "code",
      "execution_count": null,
      "metadata": {
        "id": "V7v08ejPHHzc"
      },
      "outputs": [],
      "source": [
        "import matplotlib.pyplot as plt\n",
        "\n",
        "fig, axs = plt.subplots(nrows=1, ncols=1, figsize=(15, 5))\n",
        "\n",
        "axs.boxplot(df['alcohol'])\n",
        "axs.set_title('alcohol')\n",
        "\n",
        "plt.tight_layout()\n",
        "\n",
        "plt.show()"
      ]
    },
    {
      "cell_type": "markdown",
      "metadata": {
        "id": "lCsZ0-pKHHzc"
      },
      "source": [
        "Finalmente una vez se han estudiado este subconjunto de variables, se realiza una eliminación de outliers utilizando el rango intercuartílico (IQR)."
      ]
    },
    {
      "cell_type": "markdown",
      "metadata": {
        "id": "qFj1jbdRHHzd"
      },
      "source": [
        "Se define una función para obtener un pandas dataframe con los límites a partir de los que categorizamos como outlier utilizando IQR:"
      ]
    },
    {
      "cell_type": "code",
      "execution_count": null,
      "metadata": {
        "id": "HUoh6FXwHHzd"
      },
      "outputs": [],
      "source": [
        "import pandas as pd\n",
        "def get_outlier_bounds(df:pd.DataFrame, selected_cols:list):\n",
        "    selected_df = df[selected_cols]\n",
        "\n",
        "    # Calcular el cuartil 1 (Q1) y el cuartil 3 (Q3)\n",
        "    Q1 = selected_df.quantile(0.25)\n",
        "    Q3 = selected_df.quantile(0.75)\n",
        "\n",
        "    IQR = Q3 - Q1\n",
        "    outliers_range = 1.5 * IQR\n",
        "\n",
        "    lower_bound = Q1 - outliers_range\n",
        "    upper_bound = Q3 + outliers_range\n",
        "\n",
        "    outlier_bounds = pd.DataFrame({'Lower Bound': lower_bound, 'Upper Bound': upper_bound})\n",
        "\n",
        "    return outlier_bounds\n",
        "\n",
        "\n",
        "get_outlier_bounds(df, ['pH']).head()"
      ]
    },
    {
      "cell_type": "markdown",
      "metadata": {
        "id": "gozZg7AWHHzd"
      },
      "source": [
        "Para saber cuando quitar outliers lo que haremos será ver si escasean (bajo un cierto umbral) en cuyo caso eliminaremos."
      ]
    },
    {
      "cell_type": "code",
      "execution_count": null,
      "metadata": {
        "id": "OgVVjjPXHHzd"
      },
      "outputs": [],
      "source": [
        "categorical_vars = ['wine type', 'quality']\n",
        "df_non_categorical = df.drop(categorical_vars, axis=1)\n",
        "df_bounds = get_outlier_bounds(df_non_categorical, df_non_categorical.columns)\n",
        "df_bounds"
      ]
    },
    {
      "cell_type": "code",
      "execution_count": null,
      "metadata": {
        "id": "mRB3wcniHHzd"
      },
      "outputs": [],
      "source": [
        "outliers_count = {}\n",
        "for columna in df_bounds.index:\n",
        "    lower_bound = df_bounds.loc[columna, 'Lower Bound']\n",
        "    upper_bound = df_bounds.loc[columna, 'Upper Bound']\n",
        "    outliers_count[columna] = ((df[columna] < lower_bound) | (df[columna] > upper_bound)).sum()\n",
        "\n",
        "outliers_count"
      ]
    },
    {
      "cell_type": "markdown",
      "metadata": {
        "id": "047UoDo7HHze"
      },
      "source": [
        "De manera arbitraria vamos a elegir eliminar los outliers de una variable de manera aditiva hasta reducir en un 5% el tamaño del dataset:"
      ]
    },
    {
      "cell_type": "code",
      "execution_count": null,
      "metadata": {
        "id": "7fd4cuUcHHze"
      },
      "outputs": [],
      "source": [
        "len(df)"
      ]
    },
    {
      "cell_type": "code",
      "execution_count": null,
      "metadata": {
        "id": "7xIvTKupHHze"
      },
      "outputs": [],
      "source": [
        "outliers_count_remaining = {}\n",
        "count = 0\n",
        "curr_len = len(df)\n",
        "for column in df_bounds.index[::-1]:\n",
        "    lower_bound = df_bounds.loc[column, 'Lower Bound']\n",
        "    upper_bound = df_bounds.loc[column, 'Upper Bound']\n",
        "    outliers_cond = (df[column] < lower_bound) | (df[column] > upper_bound)\n",
        "    outliers_count = (outliers_cond).sum()\n",
        "    if count + outliers_count < curr_len * 0.05:\n",
        "        count += outliers_count\n",
        "        df = df.loc[~outliers_cond, :]\n",
        "    else:\n",
        "        outliers_count_remaining[column] = outliers_count\n",
        "\n",
        "outliers_count_remaining"
      ]
    },
    {
      "cell_type": "code",
      "execution_count": null,
      "metadata": {
        "id": "SOun2-T_HHze"
      },
      "outputs": [],
      "source": [
        "len(df)"
      ]
    },
    {
      "cell_type": "code",
      "execution_count": null,
      "metadata": {
        "id": "uyCX4q6wHHzf"
      },
      "outputs": [],
      "source": [
        "df.head()"
      ]
    },
    {
      "cell_type": "markdown",
      "metadata": {
        "id": "2FkU2c_-HHzf"
      },
      "source": [
        "Para ver la relación entre las variables obtenemos la matriz de correlación (omitimos variables categóricas)"
      ]
    },
    {
      "cell_type": "code",
      "execution_count": null,
      "metadata": {
        "id": "UMcWjNZMHHzf"
      },
      "outputs": [],
      "source": [
        "import seaborn as sns\n",
        "\n",
        "categorical_vars = ['wine type', 'quality']\n",
        "df_non_categorical = df.drop(categorical_vars, axis=1)\n",
        "\n",
        "fig, axs = plt.subplots(nrows=1, ncols=1, figsize=(15, 6))\n",
        "sns.heatmap(df_non_categorical.corr(), cmap='RdBu', vmin=-1, vmax=1, annot=True)\n",
        "plt.title('Mapa de Calor - Matriz de Correlación')\n",
        "plt.show()"
      ]
    }
  ],
  "metadata": {
    "accelerator": "GPU",
    "colab": {
      "gpuType": "T4",
      "include_colab_link": true,
      "provenance": []
    },
    "kernelspec": {
      "display_name": "Python 3",
      "name": "python3"
    },
    "language_info": {
      "codemirror_mode": {
        "name": "ipython",
        "version": 3
      },
      "file_extension": ".py",
      "mimetype": "text/x-python",
      "name": "python",
      "nbconvert_exporter": "python",
      "pygments_lexer": "ipython3",
      "version": "3.12.3"
    }
  },
  "nbformat": 4,
  "nbformat_minor": 0
}
