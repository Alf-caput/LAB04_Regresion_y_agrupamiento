{
  "cells": [
    {
      "cell_type": "markdown",
      "metadata": {
        "colab_type": "text",
        "id": "view-in-github"
      },
      "source": [
        "<a href=\"https://colab.research.google.com/github/Alf-caput/LAB03_Clasificacion/blob/main/LAB03_Clasificacion.ipynb\" target=\"_parent\"><img src=\"https://colab.research.google.com/assets/colab-badge.svg\" alt=\"Open In Colab\"/></a>"
      ]
    },
    {
      "cell_type": "markdown",
      "metadata": {
        "id": "k9AuBuTjimqc"
      },
      "source": [
        "# LAB04: Regresion y agrupamientov2\n",
        "##### Grupo: B05"
      ]
    },
    {
      "cell_type": "markdown",
      "metadata": {
        "id": "quWQ2wjkFtic"
      },
      "source": [
        "Si estamos utilizando google colab, en vez de clonar el repositorio, con wget obtenemos el archivo que contiene el dataset"
      ]
    },
    {
      "cell_type": "code",
      "execution_count": 1,
      "metadata": {
        "id": "1MSJXAjWE5TK"
      },
      "outputs": [],
      "source": [
        "import os\n",
        "\n",
        "filename = 'wine_alcohol.csv'\n",
        "url = 'https://github.com/Alf-caput/LAB04_Regresion_y_agrupamiento/raw/main/wine_alcohol.csv'\n",
        "\n",
        "if not os.path.exists(filename):\n",
        "    os.system('wget' + ' ' + url)"
      ]
    },
    {
      "cell_type": "markdown",
      "metadata": {
        "id": "9yAP50lMcX2y"
      },
      "source": [
        "Junto con las librerías requeridas"
      ]
    },
    {
      "cell_type": "code",
      "execution_count": 2,
      "metadata": {
        "colab": {
          "base_uri": "https://localhost:8080/"
        },
        "id": "Tw3q9ts4cXQO",
        "outputId": "75daaa42-2c09-4eee-aeff-2c81cf6f42ff"
      },
      "outputs": [
        {
          "data": {
            "text/plain": [
              "0"
            ]
          },
          "execution_count": 2,
          "metadata": {},
          "output_type": "execute_result"
        }
      ],
      "source": [
        "import os\n",
        "\n",
        "requirements = 'requirements.txt'\n",
        "url = 'https://github.com/Alf-caput/LAB04_Regresion_y_agrupamiento/raw/main/requirements.txt'\n",
        "\n",
        "if not os.path.exists(requirements):\n",
        "    os.system('wget' + ' ' + url)\n",
        "\n",
        "os.system('pip install -r requirements.txt')"
      ]
    }
  ],
  "metadata": {
    "accelerator": "GPU",
    "colab": {
      "gpuType": "T4",
      "include_colab_link": true,
      "provenance": []
    },
    "kernelspec": {
      "display_name": "Python 3",
      "name": "python3"
    },
    "language_info": {
      "codemirror_mode": {
        "name": "ipython",
        "version": 3
      },
      "file_extension": ".py",
      "mimetype": "text/x-python",
      "name": "python",
      "nbconvert_exporter": "python",
      "pygments_lexer": "ipython3",
      "version": "3.12.3"
    }
  },
  "nbformat": 4,
  "nbformat_minor": 0
}
